{
 "cells": [
  {
   "cell_type": "markdown",
   "id": "49d6dcc4",
   "metadata": {},
   "source": [
    "# Creating measurement data"
   ]
  },
  {
   "cell_type": "code",
   "execution_count": 1,
   "id": "11846add",
   "metadata": {
    "scrolled": false
   },
   "outputs": [
    {
     "name": "stdout",
     "output_type": "stream",
     "text": [
      "M =  2\n"
     ]
    }
   ],
   "source": [
    "import auxiliar    as aux\n",
    "import hamiltonian as ham\n",
    "import calculus as calc\n",
    "\n",
    "##################################\n",
    "\n",
    "data   = 'path_data'\n",
    "\n",
    "N=5\n",
    "\n",
    "# number of measurements to obtain 1 result\n",
    "Nsubmeasurements = 170\n",
    "\n",
    "#measurements array\n",
    "M=[12,60,180,1000]             #discrete\n",
    "M=[i+10 for i in range(91)]    #continuous\n",
    "\n",
    "M=[2]\n",
    "###################################\n",
    "\n",
    "# Hamiltonian decomposition\n",
    "H_array = [ham.XXZ_X(N),ham.XXZ_Y(N),ham.XXZ_Z(N)]\n",
    "# and exact solutions\n",
    "psi,E0,E1 = calc.exact_sol(N)\n",
    "\n",
    "\n",
    "for m in M:\n",
    "    print('M = ',m)\n",
    "    aux.write('new-run','measure',data)  \n",
    "    for kk in range(Nsubmeasurements):\n",
    "        \n",
    "        # save all the submeasurements as a run\n",
    "        E_mean = calc.multiMeasure_test(H_array,psi,m)\n",
    "        aux.write(str(m)+','+str(E_mean),'measure',data)"
   ]
  },
  {
   "cell_type": "markdown",
   "id": "1ccf7692",
   "metadata": {},
   "source": [
    "## For erasing the data of the docs"
   ]
  },
  {
   "cell_type": "code",
   "execution_count": 2,
   "id": "9d507955",
   "metadata": {},
   "outputs": [],
   "source": [
    "#erase the data\n",
    "erase = False\n",
    "if erase == True:\n",
    "    f=open(data+'measure'+'.txt','w+')\n",
    "    f.close()"
   ]
  }
 ],
 "metadata": {
  "kernelspec": {
   "display_name": "Python 3 (ipykernel)",
   "language": "python",
   "name": "python3"
  },
  "language_info": {
   "codemirror_mode": {
    "name": "ipython",
    "version": 3
   },
   "file_extension": ".py",
   "mimetype": "text/x-python",
   "name": "python",
   "nbconvert_exporter": "python",
   "pygments_lexer": "ipython3",
   "version": "3.9.7"
  }
 },
 "nbformat": 4,
 "nbformat_minor": 5
}
